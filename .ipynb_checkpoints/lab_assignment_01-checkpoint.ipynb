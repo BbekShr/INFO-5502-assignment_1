{
 "cells": [
  {
   "cell_type": "markdown",
   "metadata": {
    "colab_type": "text",
    "id": "DymRJbxDBCnf"
   },
   "source": [
    "# **The first Lab-assignment (07/15/2022 11:59'AM' to 7/19/2022 11:59PM, 50 points in total)**"
   ]
  },
  {
   "cell_type": "markdown",
   "metadata": {
    "colab_type": "text",
    "id": "jJDe71iLB616"
   },
   "source": [
    "(1) Write a Python program to count the number of characters in a string. (6 points)\n",
    "\n",
    "Sample String : 'google.com', \n",
    "\n",
    "Expected Result : {'o': 3, 'g': 2, '.': 1, 'e': 1, 'l': 1, 'm': 1, 'c': 1}"
   ]
  },
  {
   "cell_type": "code",
   "execution_count": 1,
   "metadata": {
    "colab": {},
    "colab_type": "code",
    "id": "MtKskTzbCLaU"
   },
   "outputs": [
    {
     "name": "stdout",
     "output_type": "stream",
     "text": [
      "{'o': 3, 'g': 2, 'l': 1, 'e': 1, '.': 1, 'c': 1, 'm': 1}\n"
     ]
    }
   ],
   "source": [
    "# write your answer here\n",
    "import operator\n",
    "\n",
    "def char_count(sample_string):\n",
    "    count = {}\n",
    "    for char in sample_string:\n",
    "        if char in count:\n",
    "            count[char] += 1\n",
    "        else:\n",
    "            count[char] = 1\n",
    "    sorted_count = dict( sorted(count.items(), key=operator.itemgetter(1),reverse=True))\n",
    "    return sorted_count\n",
    "\n",
    "print(char_count(\"google.com\"))"
   ]
  },
  {
   "cell_type": "markdown",
   "metadata": {
    "colab_type": "text",
    "id": "55W9AMdXCSpV"
   },
   "source": [
    "(2) Write a Python program to sum all the items in a list. (6 points)"
   ]
  },
  {
   "cell_type": "code",
   "execution_count": 2,
   "metadata": {
    "colab": {},
    "colab_type": "code",
    "id": "I57NXsauCec2"
   },
   "outputs": [
    {
     "name": "stdout",
     "output_type": "stream",
     "text": [
      "7\n"
     ]
    }
   ],
   "source": [
    "# write your answer here\n",
    "def sum_of_list(items):\n",
    "    sum_numbers = 0\n",
    "    for x in items:\n",
    "        sum_numbers += x\n",
    "    return sum_numbers\n",
    "\n",
    "print(sum_of_list([1,2,4]))\n"
   ]
  },
  {
   "cell_type": "markdown",
   "metadata": {
    "colab_type": "text",
    "id": "4ulBZ6yhCi9F"
   },
   "source": [
    "(3) Write a Python program to get a string from a given string where all occurrences of its first char have been changed to '\\$', except the first char itself. (6 points)\n",
    "\n",
    "Sample String : 'restart', \n",
    "\n",
    "Expected Result : 'resta\\$t'"
   ]
  },
  {
   "cell_type": "code",
   "execution_count": 3,
   "metadata": {
    "colab": {},
    "colab_type": "code",
    "id": "Fj0XhwbBCw2o"
   },
   "outputs": [
    {
     "name": "stdout",
     "output_type": "stream",
     "text": [
      "resta$t\n"
     ]
    }
   ],
   "source": [
    "# write your answer here\n",
    "def update_string(given_string):\n",
    "    given_string_size = len(given_string)\n",
    "    new_string = list(given_string)\n",
    "    first_char = given_string[0]\n",
    "    \n",
    "    for i in range (1, given_string_size-1):\n",
    "        if given_string[i] == first_char:\n",
    "                new_string[i] = '$'\n",
    "                \n",
    "    new_string = ''.join(new_string)\n",
    "    return new_string\n",
    "\n",
    "given_string = \"restart\"\n",
    "\n",
    "print(update_string(given_string))\n"
   ]
  },
  {
   "cell_type": "markdown",
   "metadata": {
    "colab_type": "text",
    "id": "_bIP7s1MCzue"
   },
   "source": [
    "(4) Write a program with python which could accept two parameter a and b to calculate and output the result of S, where \n",
    "\n",
    "$\\ S=3.14*(1+a/b)^3$ (6 points)\n",
    "\n"
   ]
  },
  {
   "cell_type": "code",
   "execution_count": 4,
   "metadata": {
    "colab": {},
    "colab_type": "code",
    "id": "w79QilHXD3Mg"
   },
   "outputs": [
    {
     "name": "stdout",
     "output_type": "stream",
     "text": [
      "10.5975\n"
     ]
    }
   ],
   "source": [
    "# write your answer here\n",
    "def calculate_S(a,b):\n",
    "    S = 3.14 * pow((1+𝑎/𝑏),3)\n",
    "    return S\n",
    "\n",
    "print(calculate_S(1,2))\n",
    "    "
   ]
  },
  {
   "cell_type": "markdown",
   "metadata": {
    "colab_type": "text",
    "id": "xCa2bK9aD4Q3"
   },
   "source": [
    "(5) Write a Python program to concatenate following dictionaries to create a new one. (6 points)\n",
    "\n",
    "Sample Dictionary : dic1={1:10, 2:20}, dic2={3:30, 4:40}, dic3={5:50,6:60}, \n",
    "\n",
    "Expected Result : {1: 10, 2: 20, 3: 30, 4: 40, 5: 50, 6: 60}\n"
   ]
  },
  {
   "cell_type": "code",
   "execution_count": 5,
   "metadata": {
    "colab": {},
    "colab_type": "code",
    "id": "_z4aLqAbEET1"
   },
   "outputs": [
    {
     "name": "stdout",
     "output_type": "stream",
     "text": [
      "{1: 10, 2: 20, 3: 30, 4: 40, 5: 50, 6: 60}\n"
     ]
    }
   ],
   "source": [
    "# write your answer here\n",
    "def concatenate_dict(dic1, dic2, dic3):\n",
    "    dic4 = {}\n",
    "    for d in (dic1, dic2, dic3): dic4.update(d)\n",
    "    return dic4\n",
    "\n",
    "dic1={1:10, 2:20}\n",
    "dic2={3:30, 4:40}\n",
    "dic3={5:50,6:60}\n",
    "\n",
    "print(concatenate_dict(dic1, dic2, dic3))\n"
   ]
  },
  {
   "cell_type": "markdown",
   "metadata": {
    "colab_type": "text",
    "id": "0v48Vqa7FrQh"
   },
   "source": [
    "(6) Write a Python program to check whether an element exists within a tuple. (6 points)"
   ]
  },
  {
   "cell_type": "code",
   "execution_count": 6,
   "metadata": {
    "colab": {},
    "colab_type": "code",
    "id": "7WEmgq-DF2P1"
   },
   "outputs": [
    {
     "name": "stdout",
     "output_type": "stream",
     "text": [
      "1 exists in tuple\n",
      "6 does not exist in tuple\n"
     ]
    }
   ],
   "source": [
    "# write your answer here\n",
    "\n",
    "def check_element(element, sample_tuple):\n",
    "    if element in sample_tuple:\n",
    "        print(element,\"exists in tuple\")\n",
    "    else:\n",
    "        print(element,\"does not exist in tuple\")\n",
    "\n",
    "tuple_A = (1,2,3,4,5)\n",
    "element_A = 1\n",
    "element_B = 6\n",
    "\n",
    "check_element(element_A, tuple_A)\n",
    "check_element(element_B, tuple_A)"
   ]
  },
  {
   "cell_type": "markdown",
   "metadata": {
    "colab_type": "text",
    "id": "vD5PYLMuGga_"
   },
   "source": [
    "(7) Write a Python program to find maximum and the minimum value in a set. (6 points)"
   ]
  },
  {
   "cell_type": "code",
   "execution_count": 7,
   "metadata": {
    "colab": {},
    "colab_type": "code",
    "id": "t0D5kdJUGjjw"
   },
   "outputs": [
    {
     "name": "stdout",
     "output_type": "stream",
     "text": [
      "Max of the set is:  78\n",
      "Min of the set is:  1\n"
     ]
    }
   ],
   "source": [
    "# write your answer here\n",
    "def MAX(sets):\n",
    "    return (max(sets))\n",
    "\n",
    "def MIN(sets):\n",
    "    return (min(sets))\n",
    "\n",
    "sets = set([12, 34, 45, 56, 78, 15, 1, 5, 55])\n",
    "print(\"Max of the set is: \", MAX(sets))\n",
    "print(\"Min of the set is: \", MIN(sets))"
   ]
  },
  {
   "cell_type": "markdown",
   "metadata": {},
   "source": [
    "(8) Write a Python program to find the duplicate elements in a given array of integers. Return -1 If there are no such elements. (8 points)"
   ]
  },
  {
   "cell_type": "code",
   "execution_count": 8,
   "metadata": {},
   "outputs": [
    {
     "name": "stdout",
     "output_type": "stream",
     "text": [
      "-1\n",
      "[5, 6]\n"
     ]
    }
   ],
   "source": [
    "# write your answer here\n",
    "\n",
    "def find_duplicate(given_array):\n",
    "    given_array_size = len(given_array)\n",
    "    duplicate_elements = []\n",
    "    for i in range (0, given_array_size-1):\n",
    "        for j in range (i + 1, given_array_size):\n",
    "            if given_array[i] == given_array[j]:\n",
    "                duplicate_elements.append(given_array[i])\n",
    "    \n",
    "    if len(duplicate_elements) == 0:\n",
    "        return -1\n",
    "    else: \n",
    "        return duplicate_elements\n",
    "\n",
    "given_array_without_duplicate = [1, 2, 3, 4, 5, 6]\n",
    "given_array_with_duplicate = [1, 2, 3, 4, 5, 5, 6, 6]\n",
    "\n",
    "print(find_duplicate(given_array_without_duplicate))\n",
    "print(find_duplicate(given_array_with_duplicate))\n"
   ]
  }
 ],
 "metadata": {
  "colab": {
   "collapsed_sections": [],
   "include_colab_link": true,
   "name": "In_class_exercise_01.ipynb",
   "provenance": []
  },
  "kernelspec": {
   "display_name": "Python 3 (ipykernel)",
   "language": "python",
   "name": "python3"
  },
  "language_info": {
   "codemirror_mode": {
    "name": "ipython",
    "version": 3
   },
   "file_extension": ".py",
   "mimetype": "text/x-python",
   "name": "python",
   "nbconvert_exporter": "python",
   "pygments_lexer": "ipython3",
   "version": "3.9.12"
  },
  "vscode": {
   "interpreter": {
    "hash": "5c6a7f839effdddf35473dacbb9a8184e57ebbba5133cab03b12e4f28d4f0d0f"
   }
  }
 },
 "nbformat": 4,
 "nbformat_minor": 1
}
